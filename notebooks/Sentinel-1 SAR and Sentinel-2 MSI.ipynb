{
 "cells": [
  {
   "cell_type": "code",
   "execution_count": 1,
   "metadata": {},
   "outputs": [],
   "source": [
    "from pyveg.src.gee_interface import *"
   ]
  },
  {
   "cell_type": "code",
   "execution_count": 2,
   "metadata": {},
   "outputs": [],
   "source": [
    "coords = [27.95,11.57]\n",
    "point = ee.Geometry.Point(coords)\n",
    "region = get_region_string(coords,0.1)\n",
    "scale=10"
   ]
  },
  {
   "cell_type": "code",
   "execution_count": 3,
   "metadata": {},
   "outputs": [],
   "source": [
    "t1 = \"2018-01-01\"\n",
    "t2 = \"2019-01-01\""
   ]
  },
  {
   "cell_type": "code",
   "execution_count": 4,
   "metadata": {},
   "outputs": [],
   "source": [
    "s1_coll = ee.ImageCollection(\"COPERNICUS/S1_GRD\").filterBounds(point).filterDate(t1,t2)\\\n",
    "    .filter(ee.Filter.listContains('transmitterReceiverPolarisation', 'VV'))\\\n",
    "    .filter(ee.Filter.listContains('transmitterReceiverPolarisation', 'VH'))\\\n",
    "    .filter(ee.Filter.eq('instrumentMode', 'IW'));\n",
    "s2_coll = ee.ImageCollection(\"COPERNICUS/S2\").filterBounds(point).filterDate(t1,t2)"
   ]
  },
  {
   "cell_type": "code",
   "execution_count": 5,
   "metadata": {},
   "outputs": [
    {
     "data": {
      "text/plain": [
       "30"
      ]
     },
     "execution_count": 5,
     "metadata": {},
     "output_type": "execute_result"
    }
   ],
   "source": [
    "s1_coll.size().getInfo()\n"
   ]
  },
  {
   "cell_type": "code",
   "execution_count": 6,
   "metadata": {},
   "outputs": [],
   "source": [
    "s1_img = s1_coll.first()\n",
    "s2_img = s2_coll.median()"
   ]
  },
  {
   "cell_type": "code",
   "execution_count": 7,
   "metadata": {},
   "outputs": [
    {
     "data": {
      "text/plain": [
       "<ee.image.Image at 0x125965cd0>"
      ]
     },
     "execution_count": 7,
     "metadata": {},
     "output_type": "execute_result"
    }
   ],
   "source": [
    "s1_img"
   ]
  },
  {
   "cell_type": "code",
   "execution_count": 8,
   "metadata": {},
   "outputs": [],
   "source": [
    "ndvi = s2_img.normalizedDifference([\"B8\",\"B4\"]).rename(\"NDVI\")\n",
    "s2_img = s2_img.addBands(ndvi)"
   ]
  },
  {
   "cell_type": "code",
   "execution_count": 9,
   "metadata": {},
   "outputs": [
    {
     "data": {
      "text/plain": [
       "[{'id': 'B1',\n",
       "  'data_type': {'type': 'PixelType',\n",
       "   'precision': 'double',\n",
       "   'min': 0,\n",
       "   'max': 65535},\n",
       "  'crs': 'EPSG:4326',\n",
       "  'crs_transform': [1, 0, 0, 0, 1, 0]},\n",
       " {'id': 'B2',\n",
       "  'data_type': {'type': 'PixelType',\n",
       "   'precision': 'double',\n",
       "   'min': 0,\n",
       "   'max': 65535},\n",
       "  'crs': 'EPSG:4326',\n",
       "  'crs_transform': [1, 0, 0, 0, 1, 0]},\n",
       " {'id': 'B3',\n",
       "  'data_type': {'type': 'PixelType',\n",
       "   'precision': 'double',\n",
       "   'min': 0,\n",
       "   'max': 65535},\n",
       "  'crs': 'EPSG:4326',\n",
       "  'crs_transform': [1, 0, 0, 0, 1, 0]},\n",
       " {'id': 'B4',\n",
       "  'data_type': {'type': 'PixelType',\n",
       "   'precision': 'double',\n",
       "   'min': 0,\n",
       "   'max': 65535},\n",
       "  'crs': 'EPSG:4326',\n",
       "  'crs_transform': [1, 0, 0, 0, 1, 0]},\n",
       " {'id': 'B5',\n",
       "  'data_type': {'type': 'PixelType',\n",
       "   'precision': 'double',\n",
       "   'min': 0,\n",
       "   'max': 65535},\n",
       "  'crs': 'EPSG:4326',\n",
       "  'crs_transform': [1, 0, 0, 0, 1, 0]},\n",
       " {'id': 'B6',\n",
       "  'data_type': {'type': 'PixelType',\n",
       "   'precision': 'double',\n",
       "   'min': 0,\n",
       "   'max': 65535},\n",
       "  'crs': 'EPSG:4326',\n",
       "  'crs_transform': [1, 0, 0, 0, 1, 0]},\n",
       " {'id': 'B7',\n",
       "  'data_type': {'type': 'PixelType',\n",
       "   'precision': 'double',\n",
       "   'min': 0,\n",
       "   'max': 65535},\n",
       "  'crs': 'EPSG:4326',\n",
       "  'crs_transform': [1, 0, 0, 0, 1, 0]},\n",
       " {'id': 'B8',\n",
       "  'data_type': {'type': 'PixelType',\n",
       "   'precision': 'double',\n",
       "   'min': 0,\n",
       "   'max': 65535},\n",
       "  'crs': 'EPSG:4326',\n",
       "  'crs_transform': [1, 0, 0, 0, 1, 0]},\n",
       " {'id': 'B8A',\n",
       "  'data_type': {'type': 'PixelType',\n",
       "   'precision': 'double',\n",
       "   'min': 0,\n",
       "   'max': 65535},\n",
       "  'crs': 'EPSG:4326',\n",
       "  'crs_transform': [1, 0, 0, 0, 1, 0]},\n",
       " {'id': 'B9',\n",
       "  'data_type': {'type': 'PixelType',\n",
       "   'precision': 'double',\n",
       "   'min': 0,\n",
       "   'max': 65535},\n",
       "  'crs': 'EPSG:4326',\n",
       "  'crs_transform': [1, 0, 0, 0, 1, 0]},\n",
       " {'id': 'B10',\n",
       "  'data_type': {'type': 'PixelType',\n",
       "   'precision': 'double',\n",
       "   'min': 0,\n",
       "   'max': 65535},\n",
       "  'crs': 'EPSG:4326',\n",
       "  'crs_transform': [1, 0, 0, 0, 1, 0]},\n",
       " {'id': 'B11',\n",
       "  'data_type': {'type': 'PixelType',\n",
       "   'precision': 'double',\n",
       "   'min': 0,\n",
       "   'max': 65535},\n",
       "  'crs': 'EPSG:4326',\n",
       "  'crs_transform': [1, 0, 0, 0, 1, 0]},\n",
       " {'id': 'B12',\n",
       "  'data_type': {'type': 'PixelType',\n",
       "   'precision': 'double',\n",
       "   'min': 0,\n",
       "   'max': 65535},\n",
       "  'crs': 'EPSG:4326',\n",
       "  'crs_transform': [1, 0, 0, 0, 1, 0]},\n",
       " {'id': 'QA10',\n",
       "  'data_type': {'type': 'PixelType',\n",
       "   'precision': 'double',\n",
       "   'min': 0,\n",
       "   'max': 65535},\n",
       "  'crs': 'EPSG:4326',\n",
       "  'crs_transform': [1, 0, 0, 0, 1, 0]},\n",
       " {'id': 'QA20',\n",
       "  'data_type': {'type': 'PixelType',\n",
       "   'precision': 'double',\n",
       "   'min': 0,\n",
       "   'max': 4294967295},\n",
       "  'crs': 'EPSG:4326',\n",
       "  'crs_transform': [1, 0, 0, 0, 1, 0]},\n",
       " {'id': 'QA60',\n",
       "  'data_type': {'type': 'PixelType',\n",
       "   'precision': 'double',\n",
       "   'min': 0,\n",
       "   'max': 65535},\n",
       "  'crs': 'EPSG:4326',\n",
       "  'crs_transform': [1, 0, 0, 0, 1, 0]},\n",
       " {'id': 'NDVI',\n",
       "  'data_type': {'type': 'PixelType',\n",
       "   'precision': 'float',\n",
       "   'min': -1,\n",
       "   'max': 1},\n",
       "  'crs': 'EPSG:4326',\n",
       "  'crs_transform': [1, 0, 0, 0, 1, 0]}]"
      ]
     },
     "execution_count": 9,
     "metadata": {},
     "output_type": "execute_result"
    }
   ],
   "source": [
    "s2_img.getInfo()[\"bands\"]"
   ]
  },
  {
   "cell_type": "code",
   "execution_count": 10,
   "metadata": {},
   "outputs": [
    {
     "data": {
      "text/plain": [
       "[{'id': 'VV',\n",
       "  'data_type': {'type': 'PixelType', 'precision': 'double'},\n",
       "  'dimensions': [28069, 21698],\n",
       "  'crs': 'EPSG:32635',\n",
       "  'crs_transform': [10, 0, 459653.02611346275, 0, -10, 1437456.84722741]},\n",
       " {'id': 'VH',\n",
       "  'data_type': {'type': 'PixelType', 'precision': 'double'},\n",
       "  'dimensions': [28069, 21698],\n",
       "  'crs': 'EPSG:32635',\n",
       "  'crs_transform': [10, 0, 459653.02611346275, 0, -10, 1437456.84722741]},\n",
       " {'id': 'angle',\n",
       "  'data_type': {'type': 'PixelType', 'precision': 'float'},\n",
       "  'dimensions': [21, 10],\n",
       "  'crs': 'EPSG:32635',\n",
       "  'crs_transform': [-12363.234940058785,\n",
       "   -3885.5821512023686,\n",
       "   739040.7935543037,\n",
       "   2389.9901370718144,\n",
       "   -20114.071793593466,\n",
       "   1388678.8420659283]}]"
      ]
     },
     "execution_count": 10,
     "metadata": {},
     "output_type": "execute_result"
    }
   ],
   "source": [
    "s1_img.getInfo()[\"bands\"]"
   ]
  },
  {
   "cell_type": "code",
   "execution_count": 11,
   "metadata": {},
   "outputs": [],
   "source": [
    "cr = s1_img.divide([\"VH\",\"VV\"]).rename(\"CR\")\n",
    "s1_img = s1_img.addBands(cr)"
   ]
  },
  {
   "cell_type": "code",
   "execution_count": 12,
   "metadata": {},
   "outputs": [
    {
     "ename": "EEException",
     "evalue": "Image.load: Image asset 'VV' not found.",
     "output_type": "error",
     "traceback": [
      "\u001b[0;31m---------------------------------------------------------------------------\u001b[0m",
      "\u001b[0;31mEEException\u001b[0m                               Traceback (most recent call last)",
      "\u001b[0;32m<ipython-input-12-eeb81258786a>\u001b[0m in \u001b[0;36m<module>\u001b[0;34m\u001b[0m\n\u001b[0;32m----> 1\u001b[0;31m \u001b[0murl\u001b[0m \u001b[0;34m=\u001b[0m \u001b[0ms1_img\u001b[0m\u001b[0;34m.\u001b[0m\u001b[0mgetDownloadURL\u001b[0m\u001b[0;34m(\u001b[0m\u001b[0;34m{\u001b[0m\u001b[0;34m\"region\"\u001b[0m\u001b[0;34m:\u001b[0m\u001b[0mregion\u001b[0m\u001b[0;34m,\u001b[0m \u001b[0;34m\"scale\"\u001b[0m\u001b[0;34m:\u001b[0m \u001b[0mscale\u001b[0m\u001b[0;34m}\u001b[0m\u001b[0;34m)\u001b[0m\u001b[0;34m\u001b[0m\u001b[0;34m\u001b[0m\u001b[0m\n\u001b[0m",
      "\u001b[0;32m~/anaconda3/lib/python3.7/site-packages/ee/image.py\u001b[0m in \u001b[0;36mgetDownloadURL\u001b[0;34m(self, params)\u001b[0m\n\u001b[1;32m    374\u001b[0m     \u001b[0mrequest\u001b[0m \u001b[0;34m=\u001b[0m \u001b[0mparams\u001b[0m \u001b[0;32mor\u001b[0m \u001b[0;34m{\u001b[0m\u001b[0;34m}\u001b[0m\u001b[0;34m\u001b[0m\u001b[0;34m\u001b[0m\u001b[0m\n\u001b[1;32m    375\u001b[0m     \u001b[0mrequest\u001b[0m\u001b[0;34m[\u001b[0m\u001b[0;34m'image'\u001b[0m\u001b[0;34m]\u001b[0m \u001b[0;34m=\u001b[0m \u001b[0mself\u001b[0m\u001b[0;34m.\u001b[0m\u001b[0mserialize\u001b[0m\u001b[0;34m(\u001b[0m\u001b[0;34m)\u001b[0m\u001b[0;34m\u001b[0m\u001b[0;34m\u001b[0m\u001b[0m\n\u001b[0;32m--> 376\u001b[0;31m     \u001b[0;32mreturn\u001b[0m \u001b[0mdata\u001b[0m\u001b[0;34m.\u001b[0m\u001b[0mmakeDownloadUrl\u001b[0m\u001b[0;34m(\u001b[0m\u001b[0mdata\u001b[0m\u001b[0;34m.\u001b[0m\u001b[0mgetDownloadId\u001b[0m\u001b[0;34m(\u001b[0m\u001b[0mrequest\u001b[0m\u001b[0;34m)\u001b[0m\u001b[0;34m)\u001b[0m\u001b[0;34m\u001b[0m\u001b[0;34m\u001b[0m\u001b[0m\n\u001b[0m\u001b[1;32m    377\u001b[0m \u001b[0;34m\u001b[0m\u001b[0m\n\u001b[1;32m    378\u001b[0m   \u001b[0;32mdef\u001b[0m \u001b[0mgetThumbId\u001b[0m\u001b[0;34m(\u001b[0m\u001b[0mself\u001b[0m\u001b[0;34m,\u001b[0m \u001b[0mparams\u001b[0m\u001b[0;34m)\u001b[0m\u001b[0;34m:\u001b[0m\u001b[0;34m\u001b[0m\u001b[0;34m\u001b[0m\u001b[0m\n",
      "\u001b[0;32m~/anaconda3/lib/python3.7/site-packages/ee/deprecation.py\u001b[0m in \u001b[0;36mWrapper\u001b[0;34m(*args, **kwargs)\u001b[0m\n\u001b[1;32m     30\u001b[0m           \u001b[0mfilename\u001b[0m\u001b[0;34m=\u001b[0m\u001b[0mfunc\u001b[0m\u001b[0;34m.\u001b[0m\u001b[0m__code__\u001b[0m\u001b[0;34m.\u001b[0m\u001b[0mco_filename\u001b[0m\u001b[0;34m,\u001b[0m\u001b[0;34m\u001b[0m\u001b[0;34m\u001b[0m\u001b[0m\n\u001b[1;32m     31\u001b[0m           lineno=func.__code__.co_firstlineno + 1)\n\u001b[0;32m---> 32\u001b[0;31m       \u001b[0;32mreturn\u001b[0m \u001b[0mfunc\u001b[0m\u001b[0;34m(\u001b[0m\u001b[0;34m*\u001b[0m\u001b[0margs\u001b[0m\u001b[0;34m,\u001b[0m \u001b[0;34m**\u001b[0m\u001b[0mkwargs\u001b[0m\u001b[0;34m)\u001b[0m\u001b[0;34m\u001b[0m\u001b[0;34m\u001b[0m\u001b[0m\n\u001b[0m\u001b[1;32m     33\u001b[0m     \u001b[0mdeprecation_message\u001b[0m \u001b[0;34m=\u001b[0m \u001b[0;34m'\\nDEPRECATED: '\u001b[0m \u001b[0;34m+\u001b[0m \u001b[0mmessage\u001b[0m\u001b[0;34m\u001b[0m\u001b[0;34m\u001b[0m\u001b[0m\n\u001b[1;32m     34\u001b[0m     \u001b[0;32mtry\u001b[0m\u001b[0;34m:\u001b[0m\u001b[0;34m\u001b[0m\u001b[0;34m\u001b[0m\u001b[0m\n",
      "\u001b[0;32m~/anaconda3/lib/python3.7/site-packages/ee/data.py\u001b[0m in \u001b[0;36mgetDownloadId\u001b[0;34m(params)\u001b[0m\n\u001b[1;32m    896\u001b[0m   \u001b[0;32mif\u001b[0m \u001b[0;34m'bands'\u001b[0m \u001b[0;32min\u001b[0m \u001b[0mparams\u001b[0m \u001b[0;32mand\u001b[0m \u001b[0;32mnot\u001b[0m \u001b[0misinstance\u001b[0m\u001b[0;34m(\u001b[0m\u001b[0mparams\u001b[0m\u001b[0;34m[\u001b[0m\u001b[0;34m'bands'\u001b[0m\u001b[0;34m]\u001b[0m\u001b[0;34m,\u001b[0m \u001b[0msix\u001b[0m\u001b[0;34m.\u001b[0m\u001b[0mstring_types\u001b[0m\u001b[0;34m)\u001b[0m\u001b[0;34m:\u001b[0m\u001b[0;34m\u001b[0m\u001b[0;34m\u001b[0m\u001b[0m\n\u001b[1;32m    897\u001b[0m     \u001b[0mparams\u001b[0m\u001b[0;34m[\u001b[0m\u001b[0;34m'bands'\u001b[0m\u001b[0;34m]\u001b[0m \u001b[0;34m=\u001b[0m \u001b[0mjson\u001b[0m\u001b[0;34m.\u001b[0m\u001b[0mdumps\u001b[0m\u001b[0;34m(\u001b[0m\u001b[0mparams\u001b[0m\u001b[0;34m[\u001b[0m\u001b[0;34m'bands'\u001b[0m\u001b[0;34m]\u001b[0m\u001b[0;34m)\u001b[0m\u001b[0;34m\u001b[0m\u001b[0;34m\u001b[0m\u001b[0m\n\u001b[0;32m--> 898\u001b[0;31m   \u001b[0;32mreturn\u001b[0m \u001b[0msend_\u001b[0m\u001b[0;34m(\u001b[0m\u001b[0;34m'/download'\u001b[0m\u001b[0;34m,\u001b[0m \u001b[0mparams\u001b[0m\u001b[0;34m)\u001b[0m\u001b[0;34m\u001b[0m\u001b[0;34m\u001b[0m\u001b[0m\n\u001b[0m\u001b[1;32m    899\u001b[0m \u001b[0;34m\u001b[0m\u001b[0m\n\u001b[1;32m    900\u001b[0m \u001b[0;34m\u001b[0m\u001b[0m\n",
      "\u001b[0;32m~/anaconda3/lib/python3.7/site-packages/ee/data.py\u001b[0m in \u001b[0;36msend_\u001b[0;34m(path, params, opt_method, opt_raw)\u001b[0m\n\u001b[1;32m   1823\u001b[0m       \u001b[0;32mraise\u001b[0m \u001b[0mee_exception\u001b[0m\u001b[0;34m.\u001b[0m\u001b[0mEEException\u001b[0m\u001b[0;34m(\u001b[0m\u001b[0;34m'Invalid JSON: %s'\u001b[0m \u001b[0;34m%\u001b[0m \u001b[0mcontent\u001b[0m\u001b[0;34m)\u001b[0m\u001b[0;34m\u001b[0m\u001b[0;34m\u001b[0m\u001b[0m\n\u001b[1;32m   1824\u001b[0m     \u001b[0;32mif\u001b[0m \u001b[0;34m'error'\u001b[0m \u001b[0;32min\u001b[0m \u001b[0mjson_content\u001b[0m\u001b[0;34m:\u001b[0m\u001b[0;34m\u001b[0m\u001b[0;34m\u001b[0m\u001b[0m\n\u001b[0;32m-> 1825\u001b[0;31m       \u001b[0;32mraise\u001b[0m \u001b[0mee_exception\u001b[0m\u001b[0;34m.\u001b[0m\u001b[0mEEException\u001b[0m\u001b[0;34m(\u001b[0m\u001b[0mjson_content\u001b[0m\u001b[0;34m[\u001b[0m\u001b[0;34m'error'\u001b[0m\u001b[0;34m]\u001b[0m\u001b[0;34m[\u001b[0m\u001b[0;34m'message'\u001b[0m\u001b[0;34m]\u001b[0m\u001b[0;34m)\u001b[0m\u001b[0;34m\u001b[0m\u001b[0;34m\u001b[0m\u001b[0m\n\u001b[0m\u001b[1;32m   1826\u001b[0m     \u001b[0;32mif\u001b[0m \u001b[0;34m'data'\u001b[0m \u001b[0;32mnot\u001b[0m \u001b[0;32min\u001b[0m \u001b[0mcontent\u001b[0m\u001b[0;34m:\u001b[0m\u001b[0;34m\u001b[0m\u001b[0;34m\u001b[0m\u001b[0m\n\u001b[1;32m   1827\u001b[0m       \u001b[0;32mraise\u001b[0m \u001b[0mee_exception\u001b[0m\u001b[0;34m.\u001b[0m\u001b[0mEEException\u001b[0m\u001b[0;34m(\u001b[0m\u001b[0;34m'Malformed response: '\u001b[0m \u001b[0;34m+\u001b[0m \u001b[0mstr\u001b[0m\u001b[0;34m(\u001b[0m\u001b[0mcontent\u001b[0m\u001b[0;34m)\u001b[0m\u001b[0;34m)\u001b[0m\u001b[0;34m\u001b[0m\u001b[0;34m\u001b[0m\u001b[0m\n",
      "\u001b[0;31mEEException\u001b[0m: Image.load: Image asset 'VV' not found."
     ]
    }
   ],
   "source": [
    "url = s1_img.getDownloadURL({\"region\":region, \"scale\": scale})"
   ]
  },
  {
   "cell_type": "code",
   "execution_count": 69,
   "metadata": {},
   "outputs": [],
   "source": [
    "url_s2 = s2_img.getDownloadURL({\"region\":region, \"scale\": scale})"
   ]
  },
  {
   "cell_type": "code",
   "execution_count": 70,
   "metadata": {},
   "outputs": [
    {
     "data": {
      "text/plain": [
       "['output_test/796d7854f3042b92f07c903f9ba6239e',\n",
       " 'output_test/c921e4605ab2e71744d7c1e34dfbc098']"
      ]
     },
     "execution_count": 70,
     "metadata": {},
     "output_type": "execute_result"
    }
   ],
   "source": [
    "download_and_unzip(url_s2, \"output_test\")"
   ]
  },
  {
   "cell_type": "code",
   "execution_count": 51,
   "metadata": {},
   "outputs": [
    {
     "data": {
      "text/plain": [
       "'/Users/nbarlow/monitoring-ecosystem-resilience/notebooks'"
      ]
     },
     "execution_count": 51,
     "metadata": {},
     "output_type": "execute_result"
    }
   ],
   "source": [
    "import os\n",
    "os.getcwd()"
   ]
  },
  {
   "cell_type": "code",
   "execution_count": 52,
   "metadata": {},
   "outputs": [],
   "source": [
    "from pyveg.src.image_utils import *\n"
   ]
  },
  {
   "cell_type": "code",
   "execution_count": 53,
   "metadata": {},
   "outputs": [
    {
     "ename": "UnidentifiedImageError",
     "evalue": "cannot identify image file 'output_test/c921e4605ab2e71744d7c1e34dfbc098.VV.tif'",
     "output_type": "error",
     "traceback": [
      "\u001b[0;31m---------------------------------------------------------------------------\u001b[0m",
      "\u001b[0;31mUnidentifiedImageError\u001b[0m                    Traceback (most recent call last)",
      "\u001b[0;32m<ipython-input-53-c85954c8255e>\u001b[0m in \u001b[0;36m<module>\u001b[0;34m\u001b[0m\n\u001b[0;32m----> 1\u001b[0;31m \u001b[0mplot_band_values\u001b[0m\u001b[0;34m(\u001b[0m\u001b[0;34m\"output_test/c921e4605ab2e71744d7c1e34dfbc098\"\u001b[0m\u001b[0;34m,\u001b[0m\u001b[0;34m[\u001b[0m\u001b[0;34m\"VV\"\u001b[0m\u001b[0;34m]\u001b[0m\u001b[0;34m)\u001b[0m\u001b[0;34m\u001b[0m\u001b[0;34m\u001b[0m\u001b[0m\n\u001b[0m",
      "\u001b[0;32m~/anaconda3/envs/ds4sdenv/lib/python3.7/site-packages/pyveg/src/image_utils.py\u001b[0m in \u001b[0;36mplot_band_values\u001b[0;34m(input_filebase, bands)\u001b[0m\n\u001b[1;32m    214\u001b[0m     \u001b[0mnum_subplots\u001b[0m \u001b[0;34m=\u001b[0m \u001b[0mlen\u001b[0m\u001b[0;34m(\u001b[0m\u001b[0mbands\u001b[0m\u001b[0;34m)\u001b[0m\u001b[0;34m\u001b[0m\u001b[0;34m\u001b[0m\u001b[0m\n\u001b[1;32m    215\u001b[0m     \u001b[0;32mfor\u001b[0m \u001b[0mi\u001b[0m\u001b[0;34m,\u001b[0m \u001b[0mband\u001b[0m \u001b[0;32min\u001b[0m \u001b[0menumerate\u001b[0m\u001b[0;34m(\u001b[0m\u001b[0mbands\u001b[0m\u001b[0;34m)\u001b[0m\u001b[0;34m:\u001b[0m\u001b[0;34m\u001b[0m\u001b[0;34m\u001b[0m\u001b[0m\n\u001b[0;32m--> 216\u001b[0;31m         \u001b[0mim\u001b[0m \u001b[0;34m=\u001b[0m \u001b[0mImage\u001b[0m\u001b[0;34m.\u001b[0m\u001b[0mopen\u001b[0m\u001b[0;34m(\u001b[0m\u001b[0minput_filebase\u001b[0m\u001b[0;34m+\u001b[0m\u001b[0;34m\".\"\u001b[0m\u001b[0;34m+\u001b[0m\u001b[0mband\u001b[0m\u001b[0;34m+\u001b[0m\u001b[0;34m\".tif\"\u001b[0m\u001b[0;34m)\u001b[0m\u001b[0;34m\u001b[0m\u001b[0;34m\u001b[0m\u001b[0m\n\u001b[0m\u001b[1;32m    217\u001b[0m         \u001b[0mpix\u001b[0m \u001b[0;34m=\u001b[0m \u001b[0mim\u001b[0m\u001b[0;34m.\u001b[0m\u001b[0mload\u001b[0m\u001b[0;34m(\u001b[0m\u001b[0;34m)\u001b[0m\u001b[0;34m\u001b[0m\u001b[0;34m\u001b[0m\u001b[0m\n\u001b[1;32m    218\u001b[0m         \u001b[0mvals\u001b[0m \u001b[0;34m=\u001b[0m \u001b[0;34m[\u001b[0m\u001b[0;34m]\u001b[0m\u001b[0;34m\u001b[0m\u001b[0;34m\u001b[0m\u001b[0m\n",
      "\u001b[0;32m~/anaconda3/envs/ds4sdenv/lib/python3.7/site-packages/PIL/Image.py\u001b[0m in \u001b[0;36mopen\u001b[0;34m(fp, mode)\u001b[0m\n\u001b[1;32m   2860\u001b[0m         \u001b[0mwarnings\u001b[0m\u001b[0;34m.\u001b[0m\u001b[0mwarn\u001b[0m\u001b[0;34m(\u001b[0m\u001b[0mmessage\u001b[0m\u001b[0;34m)\u001b[0m\u001b[0;34m\u001b[0m\u001b[0;34m\u001b[0m\u001b[0m\n\u001b[1;32m   2861\u001b[0m     raise UnidentifiedImageError(\n\u001b[0;32m-> 2862\u001b[0;31m         \u001b[0;34m\"cannot identify image file %r\"\u001b[0m \u001b[0;34m%\u001b[0m \u001b[0;34m(\u001b[0m\u001b[0mfilename\u001b[0m \u001b[0;32mif\u001b[0m \u001b[0mfilename\u001b[0m \u001b[0;32melse\u001b[0m \u001b[0mfp\u001b[0m\u001b[0;34m)\u001b[0m\u001b[0;34m\u001b[0m\u001b[0;34m\u001b[0m\u001b[0m\n\u001b[0m\u001b[1;32m   2863\u001b[0m     )\n\u001b[1;32m   2864\u001b[0m \u001b[0;34m\u001b[0m\u001b[0m\n",
      "\u001b[0;31mUnidentifiedImageError\u001b[0m: cannot identify image file 'output_test/c921e4605ab2e71744d7c1e34dfbc098.VV.tif'"
     ]
    }
   ],
   "source": [
    "plot_band_values(\"output_test/c921e4605ab2e71744d7c1e34dfbc098\",[\"VV\"])"
   ]
  },
  {
   "cell_type": "code",
   "execution_count": null,
   "metadata": {},
   "outputs": [],
   "source": []
  }
 ],
 "metadata": {
  "kernelspec": {
   "display_name": "Python 3",
   "language": "python",
   "name": "python3"
  },
  "language_info": {
   "codemirror_mode": {
    "name": "ipython",
    "version": 3
   },
   "file_extension": ".py",
   "mimetype": "text/x-python",
   "name": "python",
   "nbconvert_exporter": "python",
   "pygments_lexer": "ipython3",
   "version": "3.7.4"
  }
 },
 "nbformat": 4,
 "nbformat_minor": 2
}
