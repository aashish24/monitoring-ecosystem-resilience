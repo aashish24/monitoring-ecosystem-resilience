{
 "cells": [
  {
   "cell_type": "code",
   "execution_count": 3,
   "metadata": {},
   "outputs": [],
   "source": [
    "import ee\n",
    "ee.Initialize()"
   ]
  },
  {
   "cell_type": "markdown",
   "metadata": {},
   "source": [
    "We are going to look at four different satellites.\n",
    "\n",
    "COPERNICUS/S2: SENTINEL 2:   2 satellites (Sentinel 2A (from June 2015) and 2B(from March 2017)) 180 degrees apart in same orbit.  10-day revisit cycle for each one.\n",
    "\n",
    "LANDSAT/LC08/C01/T1_SR:  LANDSAT 8: (from Feb 2013)\n",
    "\n",
    "LANDSAT/LT05/C01/T1_SR:  LANDSAT 5: (from 1984)\n",
    "\n",
    "LANDSAT/LT04/C01/T1_SR:  LANDSAT 4 (from 1982-93):\n"
   ]
  },
  {
   "cell_type": "code",
   "execution_count": 5,
   "metadata": {},
   "outputs": [],
   "source": [
    "coords = [27.95,11.57]\n",
    "geom = ee.Geometry.Point(coords)"
   ]
  },
  {
   "cell_type": "code",
   "execution_count": 58,
   "metadata": {},
   "outputs": [],
   "source": [
    "def get_datetimes(collection_name, property_name, coords):\n",
    "    geom = ee.Geometry.Point(coords)\n",
    "    image_coll = ee.ImageCollection(collection_name).filterBounds(geom)\n",
    "    def accumulate_timestamps(image, timestamps):\n",
    "        ts = image.get('system:time_start')\n",
    "        new_list = ee.List(timestamps)\n",
    "        return ee.List(new_list.add(ts))\n",
    "    ts_list = dataset.iterate(accumulate_timestamps, ee.List([]))\n",
    "    return ts_list.getInfo()"
   ]
  },
  {
   "cell_type": "code",
   "execution_count": 59,
   "metadata": {},
   "outputs": [],
   "source": [
    "sentinel2 = get_datetimes(\"COPERNICUS/S2\",\"system:time_start\", coords)"
   ]
  },
  {
   "cell_type": "code",
   "execution_count": 75,
   "metadata": {},
   "outputs": [],
   "source": [
    "import numpy as np\n",
    "sentinel2.sort()\n",
    "sentinel2_diffs = [int((sentinel2[i] - sentinel2[i-1])/1000) for i in range(1,len(sentinel2))]\n",
    "sentinel2_log_diffs = [np.log(tsdiff) for tsdiff in sentinel2_diffs if tsdiff > 0]"
   ]
  },
  {
   "cell_type": "code",
   "execution_count": 76,
   "metadata": {},
   "outputs": [],
   "source": [
    "import matplotlib.pyplot as plt\n",
    "%matplotlib inline"
   ]
  },
  {
   "cell_type": "code",
   "execution_count": 89,
   "metadata": {},
   "outputs": [
    {
     "data": {
      "image/png": "[encoded data removed]",
      "text/plain": [
       "<Figure size 432x288 with 1 Axes>"
      ]
     },
     "metadata": {
      "needs_background": "light"
     },
     "output_type": "display_data"
    }
   ],
   "source": [
    "ax = plt.hist(sentinel2_log_diffs, bins=50)\n",
    "plt.xlabel = \"log(time (s) between images)\"\n",
    "plt.show()"
   ]
  },
  {
   "cell_type": "code",
   "execution_count": null,
   "metadata": {},
   "outputs": [],
   "source": []
  }
 ],
 "metadata": {
  "kernelspec": {
   "display_name": "Python 3",
   "language": "python",
   "name": "python3"
  },
  "language_info": {
   "codemirror_mode": {
    "name": "ipython",
    "version": 3
   },
   "file_extension": ".py",
   "mimetype": "text/x-python",
   "name": "python",
   "nbconvert_exporter": "python",
   "pygments_lexer": "ipython3",
   "version": "3.7.6"
  }
 },
 "nbformat": 4,
 "nbformat_minor": 4
}
