{
 "cells": [
  {
   "cell_type": "code",
   "execution_count": 86,
   "metadata": {},
   "outputs": [],
   "source": [
    "import ee\n",
    "ee.Initialize()"
   ]
  },
  {
   "cell_type": "markdown",
   "metadata": {},
   "source": [
    "We are going to look at four different satellites.\n",
    "\n",
    "COPERNICUS/S2: SENTINEL 2:   2 satellites (Sentinel 2A (from June 2015) and 2B(from March 2017)) 180 degrees apart in same orbit.  10-day revisit cycle for each one.\n",
    "\n",
    "LANDSAT/LC08/C01/T1_SR:  LANDSAT 8: (from Feb 2013)\n",
    "\n",
    "LANDSAT/LT05/C01/T1_SR:  LANDSAT 5: (from 1984)\n",
    "\n",
    "LANDSAT/LT04/C01/T1_SR:  LANDSAT 4 (from 1982-93):\n"
   ]
  },
  {
   "cell_type": "code",
   "execution_count": 87,
   "metadata": {},
   "outputs": [],
   "source": [
    "coords = [27.95,11.57]\n",
    "geom = ee.Geometry.Point(coords)"
   ]
  },
  {
   "cell_type": "code",
   "execution_count": 115,
   "metadata": {},
   "outputs": [],
   "source": [
    "def get_datetimes(collection_name, coords):\n",
    "    geom = ee.Geometry.Point(coords)\n",
    "    image_coll = ee.ImageCollection(collection_name).filterBounds(geom)\n",
    "    def accumulate_timestamps(image, timestamps):\n",
    "        ts = image.get('system:time_start')\n",
    "        new_list = ee.List(timestamps)\n",
    "        return ee.List(new_list.add(ts))\n",
    "    ts_list = image_coll.iterate(accumulate_timestamps, ee.List([]))\n",
    "    return ts_list.getInfo()"
   ]
  },
  {
   "cell_type": "markdown",
   "metadata": {},
   "source": [
    "We want to make a dataframe with date index and log(time difference between successive images) columns."
   ]
  },
  {
   "cell_type": "code",
   "execution_count": 116,
   "metadata": {},
   "outputs": [],
   "source": [
    "import numpy as np\n",
    "import pandas as pd\n",
    "from datetime import datetime\n",
    "def make_dataframe(timestamp_list):\n",
    "    diffs = [int((timestamp_list[i] - timestamp_list[i-1])/1000) for i in range(1,len(timestamp_list))]\n",
    "    log_diffs = [np.log(tsdiff) for tsdiff in diffs if tsdiff > 0]\n",
    "    dates = [datetime.fromtimestamp(ts/1000) for ts in timestamp_list[1:]]\n",
    "    timestamps = [ts/1000 for ts in timestamp_list[1:]]\n",
    "    months = [str(date)[:7] for date in dates]\n",
    "    df = pd.DataFrame({\"Date\": dates, \"timestamp\": timestamps, \"diffs\": diffs, \"month\": months})\n",
    "    ## filter to exclude duplicate times\n",
    "    df = df[df[\"diffs\"] > 0]\n",
    "    ## add log_diffs column, which was only computed for non-zero time differences.\n",
    "    df[\"log_diffs\"] = log_diffs\n",
    "    return df\n"
   ]
  },
  {
   "cell_type": "code",
   "execution_count": 117,
   "metadata": {},
   "outputs": [],
   "source": [
    "sentinel2 = get_datetimes(\"COPERNICUS/S2\", coords)\n",
    "landsat8 = get_datetimes(\"LANDSAT/LC08/C01/T1_SR\", coords)\n"
   ]
  },
  {
   "cell_type": "code",
   "execution_count": 100,
   "metadata": {},
   "outputs": [
    {
     "data": {
      "text/html": [
       "<div>\n",
       "<style scoped>\n",
       "    .dataframe tbody tr th:only-of-type {\n",
       "        vertical-align: middle;\n",
       "    }\n",
       "\n",
       "    .dataframe tbody tr th {\n",
       "        vertical-align: top;\n",
       "    }\n",
       "\n",
       "    .dataframe thead th {\n",
       "        text-align: right;\n",
       "    }\n",
       "</style>\n",
       "<table border=\"1\" class=\"dataframe\">\n",
       "  <thead>\n",
       "    <tr style=\"text-align: right;\">\n",
       "      <th></th>\n",
       "      <th>Date</th>\n",
       "      <th>timestamp</th>\n",
       "      <th>diffs</th>\n",
       "      <th>month</th>\n",
       "      <th>log_diffs</th>\n",
       "    </tr>\n",
       "  </thead>\n",
       "  <tbody>\n",
       "    <tr>\n",
       "      <td>5</td>\n",
       "      <td>2015-09-22 09:28:49.000</td>\n",
       "      <td>1.442911e+09</td>\n",
       "      <td>863989</td>\n",
       "      <td>2015-09</td>\n",
       "      <td>13.669315</td>\n",
       "    </tr>\n",
       "    <tr>\n",
       "      <td>9</td>\n",
       "      <td>2015-10-22 09:45:12.000</td>\n",
       "      <td>1.445504e+09</td>\n",
       "      <td>2592982</td>\n",
       "      <td>2015-10</td>\n",
       "      <td>14.768319</td>\n",
       "    </tr>\n",
       "    <tr>\n",
       "      <td>13</td>\n",
       "      <td>2015-11-21 08:39:06.000</td>\n",
       "      <td>1.448095e+09</td>\n",
       "      <td>2591633</td>\n",
       "      <td>2015-11</td>\n",
       "      <td>14.767799</td>\n",
       "    </tr>\n",
       "    <tr>\n",
       "      <td>19</td>\n",
       "      <td>2015-12-11 08:44:15.000</td>\n",
       "      <td>1.449823e+09</td>\n",
       "      <td>1728308</td>\n",
       "      <td>2015-12</td>\n",
       "      <td>14.362653</td>\n",
       "    </tr>\n",
       "    <tr>\n",
       "      <td>23</td>\n",
       "      <td>2015-12-11 08:54:57.608</td>\n",
       "      <td>1.449824e+09</td>\n",
       "      <td>642</td>\n",
       "      <td>2015-12</td>\n",
       "      <td>6.464588</td>\n",
       "    </tr>\n",
       "  </tbody>\n",
       "</table>\n",
       "</div>"
      ],
      "text/plain": [
       "                      Date     timestamp    diffs    month  log_diffs\n",
       "5  2015-09-22 09:28:49.000  1.442911e+09   863989  2015-09  13.669315\n",
       "9  2015-10-22 09:45:12.000  1.445504e+09  2592982  2015-10  14.768319\n",
       "13 2015-11-21 08:39:06.000  1.448095e+09  2591633  2015-11  14.767799\n",
       "19 2015-12-11 08:44:15.000  1.449823e+09  1728308  2015-12  14.362653\n",
       "23 2015-12-11 08:54:57.608  1.449824e+09      642  2015-12   6.464588"
      ]
     },
     "execution_count": 100,
     "metadata": {},
     "output_type": "execute_result"
    }
   ],
   "source": [
    "df = make_dataframe(sentinel2)\n",
    "df.head()"
   ]
  },
  {
   "cell_type": "code",
   "execution_count": 92,
   "metadata": {},
   "outputs": [],
   "source": [
    "import matplotlib.pyplot as plt\n",
    "%matplotlib inline"
   ]
  },
  {
   "cell_type": "code",
   "execution_count": 78,
   "metadata": {},
   "outputs": [
    {
     "data": {
      "image/png": "[encoded data removed]",
      "text/plain": [
       "<Figure size 432x288 with 1 Axes>"
      ]
     },
     "metadata": {
      "needs_background": "light"
     },
     "output_type": "display_data"
    }
   ],
   "source": [
    "ax = plt.hist(df.log_diffs, bins=50)\n",
    "plt.xlabel = \"log(time (s) between images)\"\n",
    "plt.show()"
   ]
  },
  {
   "cell_type": "code",
   "execution_count": 103,
   "metadata": {},
   "outputs": [],
   "source": [
    "\n"
   ]
  },
  {
   "cell_type": "code",
   "execution_count": 122,
   "metadata": {},
   "outputs": [],
   "source": [
    "def create_2d_hist(df):\n",
    "    num_months = len(df[\"month\"].unique())\n",
    "    H,xedges,yedges = np.histogram2d(df['timestamp'], df['log_diffs'], bins=[num_months,50])\n",
    "    to_datetime = np.vectorize(datetime.fromtimestamp)\n",
    "    xedges_datetime = to_datetime(xedges)\n",
    "    return H, xedges_datetime, yedges \n"
   ]
  },
  {
   "cell_type": "code",
   "execution_count": 129,
   "metadata": {},
   "outputs": [
    {
     "data": {
      "image/png": "[encoded data removed]",
      "text/plain": [
       "<Figure size 1152x360 with 4 Axes>"
      ]
     },
     "metadata": {
      "needs_background": "light"
     },
     "output_type": "display_data"
    }
   ],
   "source": [
    "fig, axes = plt.subplots(2, 2, figsize=(16,5))\n",
    "image_colls = [\"COPERNICUS/S2\",\n",
    "               \"LANDSAT/LC08/C01/T1_SR\",\n",
    "               \"LANDSAT/LT05/C01/T1_SR\",\n",
    "               \"LANDSAT/LT04/C01/T1_SR\"]\n",
    "for i, ic in enumerate(image_colls):\n",
    "    timestamps = get_datetimes(ic, coords)\n",
    "    dataframe = make_dataframe(timestamps)\n",
    "    H, xedges, yedges = create_2d_hist(dataframe)\n",
    "    fig_row = (i//2) \n",
    "    fig_col = i%2\n",
    "    axes[fig_row][fig_col].pcolor(xedges, yedges, H.T)\n",
    "    axes[fig_row][fig_col].set_title(ic)\n",
    "    plt.ylabel('log(gap between images (s))')"
   ]
  }
 ],
 "metadata": {
  "kernelspec": {
   "display_name": "Python 3",
   "language": "python",
   "name": "python3"
  },
  "language_info": {
   "codemirror_mode": {
    "name": "ipython",
    "version": 3
   },
   "file_extension": ".py",
   "mimetype": "text/x-python",
   "name": "python",
   "nbconvert_exporter": "python",
   "pygments_lexer": "ipython3",
   "version": "3.7.4"
  }
 },
 "nbformat": 4,
 "nbformat_minor": 4
}
