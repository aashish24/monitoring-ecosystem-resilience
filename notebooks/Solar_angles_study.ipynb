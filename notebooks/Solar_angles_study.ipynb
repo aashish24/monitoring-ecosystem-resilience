{
 "cells": [
  {
   "cell_type": "markdown",
   "metadata": {},
   "source": [
    "## Looking at NDVI values as a function of the angle of the sun.\n",
    "\n",
    "Even though NDVI is a normalised quantity (difference between the intensity in 2 bands divided by the sum) with a potential range between -1 and 1, in practice we do see variations in brightness between images taken at the same location at different times.\n",
    "\n",
    "We examine the metadata in the image collection \"COPERNICUS/S2\", in particular the \"MEAN_SOLAR_ZENITH_ANGLE\" which represents the angle (in degrees) between the direction of the sun and the normal vector to the Earth's surface (i.e. with an angle of 0, the sun would be directly overhead."
   ]
  },
  {
   "cell_type": "code",
   "execution_count": 1,
   "metadata": {},
   "outputs": [],
   "source": [
    "import matplotlib.pyplot as plt\n"
   ]
  },
  {
   "cell_type": "code",
   "execution_count": 2,
   "metadata": {},
   "outputs": [],
   "source": [
    "image_coll=\"COPERNICUS/S2\"\n",
    "start_date=\"2016-01-01\"\n",
    "end_date=\"2017-12-31\"\n",
    "coords=[27.99,11.2878] \n",
    "bands=[\"B4\",\"B3\",\"B2\",\"NDVI\"]\n",
    "region_size=0.1\n",
    "output_dir=\"../output_dir\"\n",
    "num_time_points=2\n",
    "mask_cloud=True\n",
    "scale=10"
   ]
  },
  {
   "cell_type": "code",
   "execution_count": null,
   "metadata": {},
   "outputs": [],
   "source": [
    "from pyveg.src import satellite_data_analysis"
   ]
  },
  {
   "cell_type": "code",
   "execution_count": null,
   "metadata": {},
   "outputs": [],
   "source": [
    "help(satellite_data_analysis.get_time_series)"
   ]
  },
  {
   "cell_type": "code",
   "execution_count": null,
   "metadata": {},
   "outputs": [],
   "source": [
    "satellite_data_analysis.get_time_series(num_time_points,\n",
    "                                        coords,\n",
    "                                        image_coll,\n",
    "                                        bands,\n",
    "                                        region_size,\n",
    "                                        scale,\n",
    "                                        start_date,\n",
    "                                        end_date,\n",
    "                                        mask_cloud,\n",
    "                                        output_dir\n",
    "                                       )"
   ]
  },
  {
   "cell_type": "markdown",
   "metadata": {},
   "source": [
    "This will have put some files into \"output_dir\".   The ones we want are the json files '<something>_solar_angles.json' and '<something>_NDVI_vals.json'."
   ]
  },
  {
   "cell_type": "code",
   "execution_count": 3,
   "metadata": {},
   "outputs": [],
   "source": [
    "import os\n",
    "import json"
   ]
  },
  {
   "cell_type": "code",
   "execution_count": 4,
   "metadata": {},
   "outputs": [
    {
     "name": "stdout",
     "output_type": "stream",
     "text": [
      "filename is 09bb0e62f1677f32c88a31bc0986fc01_NDVI_vals.json\n",
      "filename is 09bb0e62f1677f32c88a31bc0986fc01_solar_angles.json\n",
      "filename is 0d3b3b80106d35572cee12a434800717_NDVI_vals.json\n",
      "filename is 0d3b3b80106d35572cee12a434800717_solar_angles.json\n",
      "filename is 3932ee656538a24ecae724ada68aabb4_NDVI_vals.json\n",
      "filename is 3932ee656538a24ecae724ada68aabb4_solar_angles.json\n",
      "filename is 4e8072179f74ab1aac63601d6ae1cf3d_NDVI_vals.json\n",
      "filename is 4e8072179f74ab1aac63601d6ae1cf3d_solar_angles.json\n",
      "filename is 68cb5d3b7bcf9c621502ceb579b0cbd4_NDVI_vals.json\n",
      "filename is 68cb5d3b7bcf9c621502ceb579b0cbd4_solar_angles.json\n",
      "filename is 7d0f94d85f695f3430a8f433516e10ac_NDVI_vals.json\n",
      "filename is 7d0f94d85f695f3430a8f433516e10ac_solar_angles.json\n",
      "filename is 7dd12d0f2c3cfccec9ba825cb774a41b_NDVI_vals.json\n",
      "filename is 7dd12d0f2c3cfccec9ba825cb774a41b_solar_angles.json\n",
      "filename is 8f9afb210fe49213141e5a05b0d0eac5_NDVI_vals.json\n",
      "filename is 8f9afb210fe49213141e5a05b0d0eac5_solar_angles.json\n",
      "filename is 97161e02c385da7feec048e8a2c77615_NDVI_vals.json\n",
      "filename is 97161e02c385da7feec048e8a2c77615_solar_angles.json\n",
      "filename is 9a708c84d0a401a359aa7d8b689848a4_NDVI_vals.json\n",
      "filename is 9a708c84d0a401a359aa7d8b689848a4_solar_angles.json\n",
      "filename is 9c30bbc713e722c78d9732292bc5338d_NDVI_vals.json\n",
      "filename is 9c30bbc713e722c78d9732292bc5338d_solar_angles.json\n",
      "filename is 9e0384f05be3215995ad03a764e154c9_NDVI_vals.json\n",
      "filename is 9e0384f05be3215995ad03a764e154c9_solar_angles.json\n",
      "filename is 9ee5c7abccb373b765628b6694ed9874_NDVI_vals.json\n",
      "filename is 9ee5c7abccb373b765628b6694ed9874_solar_angles.json\n",
      "filename is a2cbfe4e91a37a67cb1f079ddafa5c75_NDVI_vals.json\n",
      "filename is a2cbfe4e91a37a67cb1f079ddafa5c75_solar_angles.json\n",
      "filename is c59576be6c6ef414267a1bb6ef702801_NDVI_vals.json\n",
      "filename is c59576be6c6ef414267a1bb6ef702801_solar_angles.json\n",
      "filename is d045a9b3a0f34b8c9fd7b92282fd4811_NDVI_vals.json\n",
      "filename is d045a9b3a0f34b8c9fd7b92282fd4811_solar_angles.json\n",
      "filename is f7efb725b4ae9a96d2ef9840d7c7d183_NDVI_vals.json\n",
      "filename is f7efb725b4ae9a96d2ef9840d7c7d183_solar_angles.json\n"
     ]
    }
   ],
   "source": [
    "filenames = os.listdir(output_dir)\n",
    "angle_val_dict = {}\n",
    "for filename in filenames:\n",
    "    if not filename.endswith(\".json\"):\n",
    "        continue\n",
    "    filebase = filename.split(\"_\")[0]\n",
    "    if not filebase in angle_val_dict.keys():\n",
    "        angle_val_dict[filebase] = {}\n",
    "    print(\"filename is {}\".format(filename))\n",
    "    if \"solar_angles\" in filename:\n",
    "        angle_val_dict[filebase][\"zenith_angle\"] = json.load(open(os.path.join(output_dir,filename)))[\"zenith_angle\"]\n",
    "    elif \"NDVI_vals\" in filename:\n",
    "        angle_val_dict[filebase][\"NDVI\"] = json.load(open(os.path.join(output_dir, filename)))[\"NDVI\"]\n",
    "    else:\n",
    "        print(\"What is this {}\".format(filename))"
   ]
  },
  {
   "cell_type": "code",
   "execution_count": 6,
   "metadata": {},
   "outputs": [
    {
     "data": {
      "text/plain": [
       "[30.57112476499148,\n",
       " 26.0139630744227,\n",
       " 21.1852561869037,\n",
       " 32.72059107586793,\n",
       " 32.6313559423711,\n",
       " 22.5287464364,\n",
       " 30.09590402256,\n",
       " 22.5468996320355,\n",
       " 38.54849947581143,\n",
       " 20.96349130155,\n",
       " 23.019850141749725,\n",
       " 37.67894404239334,\n",
       " 22.76565207085,\n",
       " 19.59771838,\n",
       " 20.51323333055025,\n",
       " 39.64650258039558,\n",
       " 36.87146374889796]"
      ]
     },
     "execution_count": 6,
     "metadata": {},
     "output_type": "execute_result"
    }
   ],
   "source": [
    "angles = [angle_val_dict[k][\"zenith_angle\"] for k in angle_val_dict.keys()]\n",
    "\n",
    "angles"
   ]
  },
  {
   "cell_type": "code",
   "execution_count": 7,
   "metadata": {},
   "outputs": [
    {
     "data": {
      "text/plain": [
       "17"
      ]
     },
     "execution_count": 7,
     "metadata": {},
     "output_type": "execute_result"
    }
   ],
   "source": [
    "vals = [angle_val_dict[k][\"NDVI\"] for k in angle_val_dict.keys()]\n",
    "len(vals)"
   ]
  },
  {
   "cell_type": "code",
   "execution_count": 8,
   "metadata": {},
   "outputs": [
    {
     "data": {
      "image/png": "[encoded data removed]",
      "text/plain": [
       "<Figure size 1152x576 with 1 Axes>"
      ]
     },
     "metadata": {
      "needs_background": "light"
     },
     "output_type": "display_data"
    }
   ],
   "source": [
    "fig, ax = plt.subplots(1,1,figsize=(16,8))"
   ]
  },
  {
   "cell_type": "code",
   "execution_count": 9,
   "metadata": {},
   "outputs": [
    {
     "data": {
      "text/plain": [
       "{'bodies': [<matplotlib.collections.PolyCollection at 0x1616604d0>,\n",
       "  <matplotlib.collections.PolyCollection at 0x161378f90>,\n",
       "  <matplotlib.collections.PolyCollection at 0x161374a50>,\n",
       "  <matplotlib.collections.PolyCollection at 0x161680910>,\n",
       "  <matplotlib.collections.PolyCollection at 0x161680650>,\n",
       "  <matplotlib.collections.PolyCollection at 0x1616809d0>,\n",
       "  <matplotlib.collections.PolyCollection at 0x161680410>,\n",
       "  <matplotlib.collections.PolyCollection at 0x161669050>,\n",
       "  <matplotlib.collections.PolyCollection at 0x161669cd0>,\n",
       "  <matplotlib.collections.PolyCollection at 0x1616800d0>,\n",
       "  <matplotlib.collections.PolyCollection at 0x11920d310>,\n",
       "  <matplotlib.collections.PolyCollection at 0x161669e90>,\n",
       "  <matplotlib.collections.PolyCollection at 0x161691ad0>,\n",
       "  <matplotlib.collections.PolyCollection at 0x161691610>,\n",
       "  <matplotlib.collections.PolyCollection at 0x161691950>,\n",
       "  <matplotlib.collections.PolyCollection at 0x161691650>,\n",
       "  <matplotlib.collections.PolyCollection at 0x1616914d0>],\n",
       " 'cmaxes': <matplotlib.collections.LineCollection at 0x119d42910>,\n",
       " 'cmins': <matplotlib.collections.LineCollection at 0x16169b650>,\n",
       " 'cbars': <matplotlib.collections.LineCollection at 0x16169ba10>}"
      ]
     },
     "execution_count": 9,
     "metadata": {},
     "output_type": "execute_result"
    }
   ],
   "source": [
    "ax.violinplot(vals,positions=angles)"
   ]
  },
  {
   "cell_type": "code",
   "execution_count": 10,
   "metadata": {},
   "outputs": [],
   "source": [
    "plt.show()"
   ]
  },
  {
   "cell_type": "code",
   "execution_count": null,
   "metadata": {},
   "outputs": [],
   "source": []
  }
 ],
 "metadata": {
  "kernelspec": {
   "display_name": "Python 3",
   "language": "python",
   "name": "python3"
  },
  "language_info": {
   "codemirror_mode": {
    "name": "ipython",
    "version": 3
   },
   "file_extension": ".py",
   "mimetype": "text/x-python",
   "name": "python",
   "nbconvert_exporter": "python",
   "pygments_lexer": "ipython3",
   "version": "3.7.6"
  }
 },
 "nbformat": 4,
 "nbformat_minor": 4
}
