{
 "cells": [
  {
   "cell_type": "code",
   "execution_count": 2,
   "metadata": {},
   "outputs": [],
   "source": [
    "import argparse\n",
    "import os\n",
    "from matplotlib import pyplot as plt\n",
    "\n",
    "from pyveg.src.data_analysis_utils import *\n",
    "from pyveg.src.plotting import *"
   ]
  },
  {
   "cell_type": "code",
   "execution_count": 23,
   "metadata": {},
   "outputs": [],
   "source": [
    "# results directory from `download_gee_data` script, containing `results_summary.json`\n",
    "input_dir = '/Users/crangelsmith/PycharmProjects/GEE_DATA/TigerBush_Niger_2.59_13.12_2015-01-01_2020-01-01__2020-04-14_15-11-56/'\n",
    "json_summary_path = os.path.join(input_dir, 'results_summary.json')\n",
    "\n",
    "# put output plots in the results dir\n",
    "output_dir = os.path.join(input_dir, 'analysis')"
   ]
  },
  {
   "cell_type": "code",
   "execution_count": 24,
   "metadata": {},
   "outputs": [
    {
     "name": "stdout",
     "output_type": "stream",
     "text": [
      "Reading results from '/Users/crangelsmith/PycharmProjects/GEE_DATA/TigerBush_Niger_2.59_13.12_2015-01-01_2020-01-01__2020-04-14_15-11-56/results_summary.json'...\n",
      "dict_keys(['COPERNICUS/S2', 'ECMWF/ERA5/MONTHLY'])\n"
     ]
    }
   ],
   "source": [
    "# read all json files in the directory and produce a dataframe\n",
    "print(f\"Reading results from '{os.path.abspath(json_summary_path)}'...\")\n",
    "dfs = variable_read_json_to_dataframe(json_summary_path)\n",
    "\n",
    "print (dfs.keys())"
   ]
  },
  {
   "cell_type": "code",
   "execution_count": 25,
   "metadata": {},
   "outputs": [
    {
     "name": "stdout",
     "output_type": "stream",
     "text": [
      "         date                                        feature_vec  latitude  \\\n",
      "0  2015-07-15  [0.0, -31.0, -59.0, -71.0, -116.0, -130.0, -22...    2.6377   \n",
      "1  2015-07-15  [0.0, -17.0, -69.0, -104.0, -169.0, -200.0, -2...    2.5514   \n",
      "2  2015-07-15  [0.0, -49.0, -103.0, -171.0, -249.0, -292.0, -...    2.5741   \n",
      "3  2015-07-15  [0.0, -13.0, -39.0, -62.0, -103.0, -132.0, -20...    2.5923   \n",
      "4  2015-07-15  [0.0, -33.0, -81.0, -112.0, -164.0, -226.0, -2...    2.6286   \n",
      "\n",
      "   longitude    mean  offset  offset50  slope         std  \n",
      "0    13.1086 -456.70 -1082.0    -640.0 -54.10  343.613897  \n",
      "1    13.1223 -459.10 -1026.0    -568.0 -51.30  318.552492  \n",
      "2    13.1405 -621.65 -1325.0    -684.0 -66.25  406.338440  \n",
      "3    13.1359 -398.95  -919.0    -527.0 -45.95  292.988818  \n",
      "4    13.1495 -516.35 -1145.0    -617.0 -57.25  357.583176  \n",
      "         date  mean_2m_air_temperature  total_precipitation\n",
      "0  2015-01-16               296.405121             0.000000\n",
      "1  2015-02-15               303.000031             0.002291\n",
      "2  2015-04-16               305.954498             0.000000\n",
      "3  2015-05-16               307.894501             0.003323\n",
      "4  2015-06-15               306.375061             0.034950\n"
     ]
    }
   ],
   "source": [
    "print (dfs['COPERNICUS/S2'].head())\n",
    "print (dfs['ECMWF/ERA5/MONTHLY'].head())"
   ]
  },
  {
   "cell_type": "code",
   "execution_count": null,
   "metadata": {},
   "outputs": [
    {
     "name": "stdout",
     "output_type": "stream",
     "text": [
      "\n",
      "Creating spatial plots...\n"
     ]
    }
   ],
   "source": [
    "  # spatial analysis and plotting \n",
    "\n",
    "# from the dataframe, produce network metric figure for each avalaible date\n",
    "print('\\nCreating spatial plots...')\n",
    "\n",
    "# create new subdir for time series analysis\n",
    "spatial_subdir = os.path.join(output_dir, 'spatial')\n",
    "if not os.path.exists(spatial_subdir):\n",
    "    os.makedirs(spatial_subdir, exist_ok=True)\n",
    "\n",
    "for collection_name, df in dfs.items():\n",
    "    if collection_name == 'COPERNICUS/S2' or 'LANDSAT' in collection_name:\n",
    "        data_df_geo = convert_to_geopandas(df)\n",
    "        data_df_geo_coarse = coarse_dataframe(data_df_geo, 2)\n",
    "        create_lat_long_metric_figures(data_df_geo_coarse, 'offset50', spatial_subdir)\n"
   ]
  },
  {
   "cell_type": "code",
   "execution_count": null,
   "metadata": {},
   "outputs": [],
   "source": []
  }
 ],
 "metadata": {
  "kernelspec": {
   "display_name": "Python 3",
   "language": "python",
   "name": "python3"
  },
  "language_info": {
   "codemirror_mode": {
    "name": "ipython",
    "version": 3
   },
   "file_extension": ".py",
   "mimetype": "text/x-python",
   "name": "python",
   "nbconvert_exporter": "python",
   "pygments_lexer": "ipython3",
   "version": "3.7.0"
  }
 },
 "nbformat": 4,
 "nbformat_minor": 1
}
