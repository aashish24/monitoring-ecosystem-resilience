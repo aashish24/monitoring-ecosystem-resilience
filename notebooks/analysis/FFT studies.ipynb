{
 "cells": [
  {
   "cell_type": "markdown",
   "metadata": {},
   "source": [
    "## Fourier transforms on time series\n",
    "\n",
    "We expect many of the time series we look at to show seasonality with a period of 1 year.\n",
    "\n",
    "One way to test this is to perform a Fast Fourier Transform (FFT) to get the power spectrum in frequency space."
   ]
  },
  {
   "cell_type": "code",
   "execution_count": null,
   "metadata": {},
   "outputs": [],
   "source": [
    "import matplotlib.pyplot as plt\n"
   ]
  },
  {
   "cell_type": "code",
   "execution_count": null,
   "metadata": {},
   "outputs": [],
   "source": [
    "%matplotlib inline"
   ]
  },
  {
   "cell_type": "code",
   "execution_count": null,
   "metadata": {},
   "outputs": [],
   "source": [
    "from pyveg.src.data_analysis_utils import *\n"
   ]
  },
  {
   "cell_type": "markdown",
   "metadata": {},
   "source": [
    "We read in the summary json file produced by running `pyveg_gee_analysis`.  \n",
    "\n",
    "The following function will give us a dictionary of dataframes - likely one containing network centrality values from a satellite that gives us NDVI images, and one containing weather data."
   ]
  },
  {
   "cell_type": "code",
   "execution_count": null,
   "metadata": {},
   "outputs": [],
   "source": [
    "dfs = variable_read_json_to_dataframe(\"../pyveg/testdata/gee_labyrinths_summary.json\")"
   ]
  },
  {
   "cell_type": "markdown",
   "metadata": {},
   "source": [
    "We now convert the dataframes in this dict to new dataframes that have datetime index, and put them into another dict with the same keys as the input one."
   ]
  },
  {
   "cell_type": "code",
   "execution_count": null,
   "metadata": {},
   "outputs": [],
   "source": [
    "ts_dict = make_time_series(dfs)"
   ]
  },
  {
   "cell_type": "markdown",
   "metadata": {},
   "source": [
    "In order to run FFT on the time series, we need evenly sampled time points - we can interpolate to get one row per day.  We also don't care about the actual dates at this point - we can just look at the selected column, which is \"offset50\"."
   ]
  },
  {
   "cell_type": "code",
   "execution_count": null,
   "metadata": {},
   "outputs": [],
   "source": [
    "ts = resample_time_series(ts_dict[\"COPERNICUS/S2\"], col_name=\"offset50\")"
   ]
  },
  {
   "cell_type": "markdown",
   "metadata": {},
   "source": [
    "Now we do the FFT, and get arrays of frequencies and powers ready to plot."
   ]
  },
  {
   "cell_type": "code",
   "execution_count": null,
   "metadata": {},
   "outputs": [],
   "source": [
    "xvals, yvals = fft_series(ts)"
   ]
  },
  {
   "cell_type": "markdown",
   "metadata": {},
   "source": [
    "We can discard the first point when we plot - this will be a big peak, corresponding to non-periodic variations.   "
   ]
  },
  {
   "cell_type": "code",
   "execution_count": null,
   "metadata": {},
   "outputs": [],
   "source": [
    "%matplotlib inline\n",
    "plt.plot(xvals[1:],yvals[1:])\n",
    "# draw a vertical line at frequency 1/year\n",
    "plt.plot([1.0/365.,1.0/365.], [0, 30.], color='black', linewidth=1, linestyle='--')\n",
    "plt.plot([1.0/182.5,1.0/182.5], [0, 30.], color='black', linewidth=1, linestyle='--')"
   ]
  },
  {
   "cell_type": "markdown",
   "metadata": {},
   "source": [
    "We can see there is a big peak at 1 year, as expected, and a smaller peak corresponding to variations with a frequency of six months."
   ]
  },
  {
   "cell_type": "markdown",
   "metadata": {},
   "source": [
    "Now we can look at the weather time series for the same area:"
   ]
  },
  {
   "cell_type": "code",
   "execution_count": null,
   "metadata": {},
   "outputs": [],
   "source": [
    "ts_dict[\"ECMWF/ERA5/MONTHLY\"].columns"
   ]
  },
  {
   "cell_type": "code",
   "execution_count": null,
   "metadata": {},
   "outputs": [],
   "source": [
    "ts_rainfall = resample_time_series(ts_dict[\"ECMWF/ERA5/MONTHLY\"], col_name=\"total_precipitation\")"
   ]
  },
  {
   "cell_type": "code",
   "execution_count": null,
   "metadata": {},
   "outputs": [],
   "source": [
    "xvals_rainfall, yvals_rainfall = fft_series(ts_rainfall)"
   ]
  },
  {
   "cell_type": "code",
   "execution_count": null,
   "metadata": {},
   "outputs": [],
   "source": [
    "ts_temp = resample_time_series(ts_dict[\"ECMWF/ERA5/MONTHLY\"], col_name=\"mean_2m_air_temperature\")\n",
    "xvals_temp, yvals_temp = fft_series(ts_temp)"
   ]
  },
  {
   "cell_type": "code",
   "execution_count": null,
   "metadata": {},
   "outputs": [],
   "source": [
    "plt.plot(xvals_rainfall[1:],yvals_rainfall[1:])\n",
    "plt.plot(xvals_temp[1:],yvals_temp[1:])\n",
    "plt.yscale(\"log\")\n",
    "# plot vertical lines at 1/year and 1/(6-months)\n",
    "plt.plot([1.0/182.5,1.0/182.5], [1e-5, 100.], color='black', linewidth=1, linestyle='--')\n",
    "plt.plot([1.0/365.,1.0/365.], [1e-5, 100.], color='black', linewidth=1, linestyle='--')"
   ]
  },
  {
   "cell_type": "code",
   "execution_count": null,
   "metadata": {},
   "outputs": [],
   "source": []
  }
 ],
 "metadata": {
  "kernelspec": {
   "display_name": "Python 2",
   "language": "python",
   "name": "python2"
  },
  "language_info": {
   "codemirror_mode": {
    "name": "ipython",
    "version": 2
   },
   "file_extension": ".py",
   "mimetype": "text/x-python",
   "name": "python",
   "nbconvert_exporter": "python",
   "pygments_lexer": "ipython2",
   "version": "2.7.16"
  }
 },
 "nbformat": 4,
 "nbformat_minor": 2
}
