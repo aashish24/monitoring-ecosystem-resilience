{
 "cells": [
  {
   "cell_type": "code",
   "execution_count": 1,
   "metadata": {},
   "outputs": [],
   "source": [
    "import ee\n",
    "ee.Initialize()"
   ]
  },
  {
   "cell_type": "markdown",
   "metadata": {},
   "source": [
    "We are going to look at four different satellites.\n",
    "\n",
    "COPERNICUS/S2: SENTINEL 2:   2 satellites (Sentinel 2A (from June 2015) and 2B(from March 2017)) 180 degrees apart in same orbit.  10-day revisit cycle for each one.\n",
    "\n",
    "LANDSAT/LC08/C01/T1_SR:  LANDSAT 8: (from Feb 2013)\n",
    "\n",
    "LANDSAT/LT05/C01/T1_SR:  LANDSAT 5: (from 1984)\n",
    "\n",
    "LANDSAT/LT04/C01/T1_SR:  LANDSAT 4 (from 1982-93):\n"
   ]
  },
  {
   "cell_type": "markdown",
   "metadata": {},
   "source": [
    "Define the coordinates we'll use - this is a point in the Sahel, in South Sudan."
   ]
  },
  {
   "cell_type": "code",
   "execution_count": 2,
   "metadata": {},
   "outputs": [],
   "source": [
    "coords = [27.95,11.57]\n",
    "geom = ee.Geometry.Point(coords)"
   ]
  },
  {
   "cell_type": "markdown",
   "metadata": {},
   "source": [
    "Function to get the unix timestamps of all images in a chosen ImageCollection (i.e. satellite) from Google Earth Engine."
   ]
  },
  {
   "cell_type": "code",
   "execution_count": 3,
   "metadata": {},
   "outputs": [],
   "source": [
    "def get_datetimes(collection_name, coords):\n",
    "    geom = ee.Geometry.Point(coords)\n",
    "    image_coll = ee.ImageCollection(collection_name).filterBounds(geom)\n",
    "    def accumulate_timestamps(image, timestamps):\n",
    "        ts = image.get('system:time_start')\n",
    "        new_list = ee.List(timestamps)\n",
    "        return ee.List(new_list.add(ts))\n",
    "    ts_list = image_coll.iterate(accumulate_timestamps, ee.List([]))\n",
    "    return ts_list.getInfo()"
   ]
  },
  {
   "cell_type": "markdown",
   "metadata": {},
   "source": [
    "We want to make a dataframe with date index and log(time difference between successive images) columns."
   ]
  },
  {
   "cell_type": "code",
   "execution_count": 4,
   "metadata": {},
   "outputs": [],
   "source": [
    "import numpy as np\n",
    "import pandas as pd\n",
    "from datetime import datetime\n",
    "def make_dataframe(timestamp_list):\n",
    "    diffs = [int((timestamp_list[i] - timestamp_list[i-1])/1000) for i in range(1,len(timestamp_list))]\n",
    "    log_diffs = [np.log(tsdiff) for tsdiff in diffs if tsdiff > 0]\n",
    "    dates = [datetime.fromtimestamp(ts/1000) for ts in timestamp_list[1:]]\n",
    "    timestamps = [ts/1000 for ts in timestamp_list[1:]]\n",
    "    months = [str(date)[:7] for date in dates]\n",
    "    df = pd.DataFrame({\"Date\": dates, \"timestamp\": timestamps, \"diffs\": diffs, \"month\": months})\n",
    "    ## filter to exclude duplicate times\n",
    "    df = df[df[\"diffs\"] > 0]\n",
    "    ## add log_diffs column, which was only computed for non-zero time differences.\n",
    "    df[\"log_diffs\"] = log_diffs\n",
    "    return df\n"
   ]
  },
  {
   "cell_type": "code",
   "execution_count": 5,
   "metadata": {},
   "outputs": [],
   "source": [
    "import matplotlib.pyplot as plt\n",
    "%matplotlib inline"
   ]
  },
  {
   "cell_type": "markdown",
   "metadata": {},
   "source": [
    "Make a 2D histogram, with time on the x-axis, and log(time diff between successive images) on the y-axis."
   ]
  },
  {
   "cell_type": "code",
   "execution_count": 6,
   "metadata": {},
   "outputs": [],
   "source": [
    "def create_2d_hist(df):\n",
    "    num_months = len(df[\"month\"].unique())\n",
    "    H,xedges,yedges = np.histogram2d(df['timestamp'], df['log_diffs'], bins=[num_months,40],\n",
    "                                    range =[[df['timestamp'].min(),df['timestamp'].max()],[10,20]] )\n",
    "    to_datetime = np.vectorize(datetime.fromtimestamp)\n",
    "    xedges_datetime = to_datetime(xedges)\n",
    "    return H, xedges_datetime, yedges \n"
   ]
  },
  {
   "cell_type": "markdown",
   "metadata": {},
   "source": [
    "Make this histogram for all four satellites we're considering:"
   ]
  },
  {
   "cell_type": "code",
   "execution_count": 7,
   "metadata": {},
   "outputs": [
    {
     "name": "stderr",
     "output_type": "stream",
     "text": [
      "/Users/nbarlow/anaconda3/lib/python3.7/site-packages/pandas/plotting/_matplotlib/converter.py:103: FutureWarning: Using an implicitly registered datetime converter for a matplotlib plotting method. The converter was registered by pandas on import. Future versions of pandas will require you to explicitly register matplotlib converters.\n",
      "\n",
      "To register the converters:\n",
      "\t>>> from pandas.plotting import register_matplotlib_converters\n",
      "\t>>> register_matplotlib_converters()\n",
      "  warnings.warn(msg, FutureWarning)\n"
     ]
    },
    {
     "data": {
      "image/png": "[encoded data removed]",
      "text/plain": [
       "<Figure size 1152x360 with 4 Axes>"
      ]
     },
     "metadata": {
      "needs_background": "light"
     },
     "output_type": "display_data"
    }
   ],
   "source": [
    "fig, axes = plt.subplots(2, 2, figsize=(16,5))\n",
    "fig.tight_layout()\n",
    "image_colls = [\"COPERNICUS/S2\",\n",
    "               \"LANDSAT/LC08/C01/T1_SR\",\n",
    "               \"LANDSAT/LT05/C01/T1_SR\",\n",
    "               \"LANDSAT/LT04/C01/T1_SR\"]\n",
    "for i, ic in enumerate(image_colls):\n",
    "    timestamps = get_datetimes(ic, coords)\n",
    "    dataframe = make_dataframe(timestamps)\n",
    "    H, xedges, yedges = create_2d_hist(dataframe)\n",
    "    fig_row = (i//2) \n",
    "    fig_col = i%2\n",
    "    axes[fig_row][fig_col].pcolor(xedges, yedges, H.T)\n",
    "    axes[fig_row][fig_col].set_title(ic)\n",
    "    if fig_col == 0:\n",
    "        axes[fig_row][fig_col].set_ylabel('log(gap between images (s))')"
   ]
  },
  {
   "cell_type": "markdown",
   "metadata": {},
   "source": [
    "Utility function so we can quickly convert log(time-in-seconds) to number of days:"
   ]
  },
  {
   "cell_type": "code",
   "execution_count": 8,
   "metadata": {},
   "outputs": [],
   "source": [
    "def gap_converter(log_diff):\n",
    "    n_days = pow(np.e, log_diff)/(3600*24)\n",
    "    print(\" {0:.2f} days\".format( n_days))\n"
   ]
  },
  {
   "cell_type": "code",
   "execution_count": 9,
   "metadata": {},
   "outputs": [
    {
     "name": "stdout",
     "output_type": "stream",
     "text": [
      " 102.85 days\n"
     ]
    }
   ],
   "source": [
    "gap_converter(16.)"
   ]
  }
 ],
 "metadata": {
  "kernelspec": {
   "display_name": "Python 3",
   "language": "python",
   "name": "python3"
  },
  "language_info": {
   "codemirror_mode": {
    "name": "ipython",
    "version": 3
   },
   "file_extension": ".py",
   "mimetype": "text/x-python",
   "name": "python",
   "nbconvert_exporter": "python",
   "pygments_lexer": "ipython3",
   "version": "3.7.4"
  }
 },
 "nbformat": 4,
 "nbformat_minor": 4
}
