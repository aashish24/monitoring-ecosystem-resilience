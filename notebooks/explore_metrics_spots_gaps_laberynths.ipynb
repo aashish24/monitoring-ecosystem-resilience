{
 "cells": [
  {
   "cell_type": "code",
   "execution_count": 12,
   "metadata": {},
   "outputs": [],
   "source": [
    "import os\n",
    "import sys\n",
    "import pandas as pd\n",
    "module_path = os.path.abspath(os.path.join('..'))\n",
    "if module_path not in sys.path:\n",
    "    sys.path.append(module_path)"
   ]
  },
  {
   "cell_type": "code",
   "execution_count": 13,
   "metadata": {},
   "outputs": [],
   "source": [
    "from patterns.python.sc_utils import *\n",
    "import patterns.python.subgraph_centrality as sgc\n",
    "from os import listdir\n",
    "from os.path import isfile, join\n"
   ]
  },
  {
   "cell_type": "code",
   "execution_count": 14,
   "metadata": {},
   "outputs": [],
   "source": [
    "def get_metrics(image_array):\n",
    "    \n",
    "    feature_vec, sel_pixels = sgc.subgraph_centrality(image_array)\n",
    "    # get the images showing the selected sub-regions\n",
    "    feature_vec_metrics = sgc.feature_vector_metrics(feature_vec)\n",
    "    \n",
    "    return feature_vec_metrics\n"
   ]
  },
  {
   "cell_type": "code",
   "execution_count": 15,
   "metadata": {},
   "outputs": [],
   "source": [
    "list_gaps = [f for f in listdir(\"../gee/GAPS/\") if isfile(join(\"../gee/GAPS/\", f))]\n",
    "\n",
    "metrics = []\n",
    "for image in list_gaps: \n",
    "    image_array = sgc.read_image_file(\"../gee/GAPS/\"+image)\n",
    "    m = get_metrics(image_array)\n",
    "    m['cat'] = 1\n",
    "    metrics.append(m)\n",
    "    \n",
    "gaps = pd.DataFrame.from_dict(metrics)"
   ]
  },
  {
   "cell_type": "code",
   "execution_count": 16,
   "metadata": {},
   "outputs": [],
   "source": [
    "list_spots = [f for f in listdir(\"../gee/SPOTS/\") if isfile(join(\"../gee/SPOTS/\", f))]\n",
    "\n",
    "metrics = []\n",
    "for image in list_spots: \n",
    "    image_array = sgc.read_image_file(\"../gee/SPOTS/\"+image)\n",
    "    m = get_metrics(image_array)\n",
    "    m['cat'] = 2\n",
    "    metrics.append(m)\n",
    "    \n",
    "spots = pd.DataFrame.from_dict(metrics)"
   ]
  },
  {
   "cell_type": "code",
   "execution_count": 17,
   "metadata": {},
   "outputs": [
    {
     "ename": "KeyboardInterrupt",
     "evalue": "",
     "output_type": "error",
     "traceback": [
      "\u001b[0;31m---------------------------------------------------------------------------\u001b[0m",
      "\u001b[0;31mKeyboardInterrupt\u001b[0m                         Traceback (most recent call last)",
      "\u001b[0;32m<ipython-input-17-df59d8800e60>\u001b[0m in \u001b[0;36m<module>\u001b[0;34m\u001b[0m\n\u001b[1;32m      4\u001b[0m \u001b[0;32mfor\u001b[0m \u001b[0mimage\u001b[0m \u001b[0;32min\u001b[0m \u001b[0mlist_lab\u001b[0m\u001b[0;34m:\u001b[0m\u001b[0;34m\u001b[0m\u001b[0;34m\u001b[0m\u001b[0m\n\u001b[1;32m      5\u001b[0m     \u001b[0mimage_array\u001b[0m \u001b[0;34m=\u001b[0m \u001b[0msgc\u001b[0m\u001b[0;34m.\u001b[0m\u001b[0mread_image_file\u001b[0m\u001b[0;34m(\u001b[0m\u001b[0;34m\"../gee/LABYRINTHS/\"\u001b[0m\u001b[0;34m+\u001b[0m\u001b[0mimage\u001b[0m\u001b[0;34m)\u001b[0m\u001b[0;34m\u001b[0m\u001b[0;34m\u001b[0m\u001b[0m\n\u001b[0;32m----> 6\u001b[0;31m     \u001b[0mm\u001b[0m \u001b[0;34m=\u001b[0m \u001b[0mget_metrics\u001b[0m\u001b[0;34m(\u001b[0m\u001b[0mimage_array\u001b[0m\u001b[0;34m)\u001b[0m\u001b[0;34m\u001b[0m\u001b[0;34m\u001b[0m\u001b[0m\n\u001b[0m\u001b[1;32m      7\u001b[0m     \u001b[0mm\u001b[0m\u001b[0;34m[\u001b[0m\u001b[0;34m'cat'\u001b[0m\u001b[0;34m]\u001b[0m \u001b[0;34m=\u001b[0m \u001b[0;36m3\u001b[0m\u001b[0;34m\u001b[0m\u001b[0;34m\u001b[0m\u001b[0m\n\u001b[1;32m      8\u001b[0m     \u001b[0mmetrics\u001b[0m\u001b[0;34m.\u001b[0m\u001b[0mappend\u001b[0m\u001b[0;34m(\u001b[0m\u001b[0mm\u001b[0m\u001b[0;34m)\u001b[0m\u001b[0;34m\u001b[0m\u001b[0;34m\u001b[0m\u001b[0m\n",
      "\u001b[0;32m<ipython-input-14-f0e4b68837b5>\u001b[0m in \u001b[0;36mget_metrics\u001b[0;34m(image_array)\u001b[0m\n\u001b[1;32m      1\u001b[0m \u001b[0;32mdef\u001b[0m \u001b[0mget_metrics\u001b[0m\u001b[0;34m(\u001b[0m\u001b[0mimage_array\u001b[0m\u001b[0;34m)\u001b[0m\u001b[0;34m:\u001b[0m\u001b[0;34m\u001b[0m\u001b[0;34m\u001b[0m\u001b[0m\n\u001b[1;32m      2\u001b[0m \u001b[0;34m\u001b[0m\u001b[0m\n\u001b[0;32m----> 3\u001b[0;31m     \u001b[0mfeature_vec\u001b[0m\u001b[0;34m,\u001b[0m \u001b[0msel_pixels\u001b[0m \u001b[0;34m=\u001b[0m \u001b[0msgc\u001b[0m\u001b[0;34m.\u001b[0m\u001b[0msubgraph_centrality\u001b[0m\u001b[0;34m(\u001b[0m\u001b[0mimage_array\u001b[0m\u001b[0;34m)\u001b[0m\u001b[0;34m\u001b[0m\u001b[0;34m\u001b[0m\u001b[0m\n\u001b[0m\u001b[1;32m      4\u001b[0m     \u001b[0;31m# get the images showing the selected sub-regions\u001b[0m\u001b[0;34m\u001b[0m\u001b[0;34m\u001b[0m\u001b[0;34m\u001b[0m\u001b[0m\n\u001b[1;32m      5\u001b[0m     \u001b[0mfeature_vec_metrics\u001b[0m \u001b[0;34m=\u001b[0m \u001b[0msgc\u001b[0m\u001b[0;34m.\u001b[0m\u001b[0mfeature_vector_metrics\u001b[0m\u001b[0;34m(\u001b[0m\u001b[0mfeature_vec\u001b[0m\u001b[0;34m)\u001b[0m\u001b[0;34m\u001b[0m\u001b[0;34m\u001b[0m\u001b[0m\n",
      "\u001b[0;32m~/PycharmProjects/monitoring-ecosystem-resilience/patterns/python/subgraph_centrality.py\u001b[0m in \u001b[0;36msubgraph_centrality\u001b[0;34m(image, use_diagonal_neighbours, num_quantiles, threshold, lower_threshold, output_csv)\u001b[0m\n\u001b[1;32m    229\u001b[0m     \u001b[0;31m# will use to fill our feature vector\u001b[0m\u001b[0;34m\u001b[0m\u001b[0;34m\u001b[0m\u001b[0;34m\u001b[0m\u001b[0m\n\u001b[1;32m    230\u001b[0m     adj_matrix = calc_adjacency_matrix(dist_matrix,\n\u001b[0;32m--> 231\u001b[0;31m                                        use_diagonal_neighbours)\n\u001b[0m\u001b[1;32m    232\u001b[0m     \u001b[0;31m# calculate the subgraph centrality and order our signal pixels accordingly\u001b[0m\u001b[0;34m\u001b[0m\u001b[0;34m\u001b[0m\u001b[0;34m\u001b[0m\u001b[0m\n\u001b[1;32m    233\u001b[0m     \u001b[0msorted_pix_indices\u001b[0m \u001b[0;34m=\u001b[0m \u001b[0mcalc_and_sort_sc_indices\u001b[0m\u001b[0;34m(\u001b[0m\u001b[0madj_matrix\u001b[0m\u001b[0;34m)\u001b[0m\u001b[0;34m\u001b[0m\u001b[0;34m\u001b[0m\u001b[0m\n",
      "\u001b[0;32m~/PycharmProjects/monitoring-ecosystem-resilience/patterns/python/subgraph_centrality.py\u001b[0m in \u001b[0;36mcalc_adjacency_matrix\u001b[0;34m(distance_matrix, include_diagonal_neighbours)\u001b[0m\n\u001b[1;32m     83\u001b[0m     \u001b[0;31m# i.e. the x,y coordinates of all \"neighbours\" in the distance matrix.\u001b[0m\u001b[0;34m\u001b[0m\u001b[0;34m\u001b[0m\u001b[0;34m\u001b[0m\u001b[0m\n\u001b[1;32m     84\u001b[0m     \u001b[0;32mif\u001b[0m \u001b[0;32mnot\u001b[0m \u001b[0minclude_diagonal_neighbours\u001b[0m\u001b[0;34m:\u001b[0m\u001b[0;34m\u001b[0m\u001b[0;34m\u001b[0m\u001b[0m\n\u001b[0;32m---> 85\u001b[0;31m         \u001b[0mneighbour_x_y\u001b[0m \u001b[0;34m=\u001b[0m \u001b[0mnp\u001b[0m\u001b[0;34m.\u001b[0m\u001b[0mwhere\u001b[0m\u001b[0;34m(\u001b[0m\u001b[0mdistance_matrix\u001b[0m\u001b[0;34m==\u001b[0m\u001b[0;36m1\u001b[0m\u001b[0;34m)\u001b[0m\u001b[0;34m\u001b[0m\u001b[0;34m\u001b[0m\u001b[0m\n\u001b[0m\u001b[1;32m     86\u001b[0m     \u001b[0;32melse\u001b[0m\u001b[0;34m:\u001b[0m\u001b[0;34m\u001b[0m\u001b[0;34m\u001b[0m\u001b[0m\n\u001b[1;32m     87\u001b[0m         \u001b[0mneighbour_x_y\u001b[0m \u001b[0;34m=\u001b[0m \u001b[0mnp\u001b[0m\u001b[0;34m.\u001b[0m\u001b[0mwhere\u001b[0m\u001b[0;34m(\u001b[0m\u001b[0;34m(\u001b[0m\u001b[0mdistance_matrix\u001b[0m\u001b[0;34m>\u001b[0m\u001b[0;36m0\u001b[0m\u001b[0;34m)\u001b[0m \u001b[0;34m&\u001b[0m \u001b[0;34m(\u001b[0m\u001b[0mdistance_matrix\u001b[0m \u001b[0;34m<\u001b[0m \u001b[0;36m2\u001b[0m\u001b[0;34m)\u001b[0m\u001b[0;34m)\u001b[0m\u001b[0;34m\u001b[0m\u001b[0;34m\u001b[0m\u001b[0m\n",
      "\u001b[0;31mKeyboardInterrupt\u001b[0m: "
     ]
    }
   ],
   "source": [
    "list_lab = [f for f in listdir(\"../gee/LABYRINTHS/\") if isfile(join(\"../gee/LABYRINTHS/\", f))]\n",
    "\n",
    "metrics = []\n",
    "for image in list_lab: \n",
    "    image_array = sgc.read_image_file(\"../gee/LABYRINTHS/\"+image)\n",
    "    m = get_metrics(image_array)\n",
    "    m['cat'] = 3\n",
    "    metrics.append(m)\n",
    "    \n",
    "lab = pd.DataFrame.from_dict(metrics)"
   ]
  },
  {
   "cell_type": "code",
   "execution_count": null,
   "metadata": {},
   "outputs": [],
   "source": [
    "\n",
    "total = pd.concat([gaps,spots,lab])"
   ]
  },
  {
   "cell_type": "code",
   "execution_count": null,
   "metadata": {},
   "outputs": [],
   "source": [
    "import seaborn as sns\n",
    "g = sns.pairplot(total, hue=\"cat\")\n"
   ]
  },
  {
   "cell_type": "code",
   "execution_count": null,
   "metadata": {},
   "outputs": [],
   "source": [
    "from patterns.python.config import *\n",
    "import argparse\n",
    "import random\n",
    "import numpy as np\n",
    "import matplotlib.pyplot as plt\n",
    "\n",
    "\n",
    "def generate_pattern(rainfall, m):  # rainfall in mm\n",
    "    \n",
    "    import numpy as np\n",
    "    NX=m\n",
    "    NY=m\n",
    "    \"\"\"\n",
    "    Run the code to converge on a vegetation pattern\n",
    "    \"\"\"\n",
    "    print(\"Generating pattern with rainfall {}mm\".format(rainfall))\n",
    "    # Initialisation\n",
    "    popP = np.zeros((m, m))\n",
    "    popW = np.zeros((m, m))\n",
    "    popO = np.zeros((m, m))\n",
    "    dP = np.zeros((m, m))\n",
    "    dO = np.zeros((m, m))\n",
    "    dW = np.zeros((m, m))\n",
    "    NetP = np.zeros((m, m))\n",
    "    NetW = np.zeros((m, m))\n",
    "    NetO = np.zeros((m, m))\n",
    "\n",
    "    # Boundary conditions\n",
    "    FYP = np.zeros((NY + 1, NX)) # bound.con.no flow in / outo Y - direction\n",
    "    FXP = np.zeros((NY, NX + 1)) # bound.con.no flow in / out to X - direction\n",
    "    FYW = np.zeros((NY + 1, NX)) # bound.con.no flow in / out to Y - direction\n",
    "    FXW = np.zeros((NY, NX + 1)) # bound.con.no flow in / out to X - direction\n",
    "    FYO = np.zeros((NY + 1, NX)) # bound.con.no flow in / out to Y - direction\n",
    "    FXO = np.zeros((NY, NX + 1)) # bound.con.no flow in / out to X - direction\n",
    "\n",
    "    # Initial state\n",
    "    for i in range(1,m):\n",
    "        for j in range(1,m):\n",
    "            if random.random() > frac:\n",
    "                popO[i, j] = rainfall / (alpha * W0)\n",
    "                popW[i, j] = rainfall / rw # Homogeneous equilibrium soil water in absence of plants\n",
    "                popP[i, j] = 90 # Initial plant biomass\n",
    "            else:\n",
    "                popO[i, j] = rainfall / (alpha * W0) # Homogeneous equilibrium surface water in absenceof plants\n",
    "                popW[i, j] = rainfall / rw # Homogeneous equilibriums oil water in absence of plants\n",
    "                popP[i, j] = 0 # Initial plant biomass\n",
    "\n",
    "    # Timesteps\n",
    "    dT = 1  # timestep\n",
    "    Time = 1  # begin time\n",
    "    EndTime = 10000  # end time\n",
    "    PlotStep = 10  # (d)\n",
    "    PlotTime = PlotStep  #(d)\n",
    "    #  Timesteps\n",
    "\n",
    "    snapshots = []\n",
    "    while Time <= EndTime:\n",
    "\n",
    "        # Reaction\n",
    "        drO = (rainfall - np.divide(alpha * (popP + k2 * W0), (popP + k2))* popO)\n",
    "        drW = (alpha * np.divide((popP + k2 * W0),\n",
    "                                 (popP + k2)) \\\n",
    "               * popO - gmax * np.divide(popW, (popW + k1))* popP - rw * popW)\n",
    "        drP = (c * gmax * np.divide(popW,(popW + k1)) * popP - (d + beta)* popP)\n",
    "\n",
    "        # Diffusion\n",
    "        # calculate Flow in x - direction: Flow = -D * dpopP / dx;\n",
    "        FXP[0:NY, 1:NX] = -DifP * (popP[:, 1:NX] - popP[:, 0:(NX - 1)]) *DeltaY / DeltaX\n",
    "        FXW[0:NY, 1:NX] = -DifW * (popW[:, 1:NX] - popW[:, 0:(NX - 1)]) *DeltaY / DeltaX\n",
    "        FXO[0:NY, 1:NX] = -DifO * (popO[:, 1:NX] - popO[:, 0:(NX - 1)]) *DeltaY / DeltaX\n",
    "\n",
    "        # calculate Flow in y - direction: Flow = -D * dpopP / dy;\n",
    "        FYP[1:NY, 0:NX] = -DifP * (popP[1:NY,:] - popP[0:(NY - 1),:]) *DeltaX / DeltaY\n",
    "        FYW[1:NY, 0:NX] = -DifW * (popW[1:NY,:] - popW[0:(NY - 1),:]) *DeltaX / DeltaY\n",
    "        FYO[1:NY, 0:NX] = -DifO * (popO[1:NY,:] - popO[0:(NY - 1),:]) *DeltaX / DeltaY\n",
    "\n",
    "        # calculate netflow\n",
    "        NetP = (FXP[:, 0:NX] - FXP[:, 1:(NX + 1)]) + (FYP[0:NY,:] - FYP[1:NY + 1,:])\n",
    "        NetW = (FXW[:, 0:NX] - FXW[:, 1:(NX + 1)]) + (FYW[0:NY,:] - FYW[1:NY + 1,:])\n",
    "        NetO = (FXO[:, 0:NX] - FXO[:, 1:(NX + 1)]) + (FYO[0:NY,:] - FYO[1:NY + 1,:])\n",
    "        # NewO(1:NY, 1:NX)=0;\n",
    "        # Update\n",
    "        popW = popW + (drW + (NetW / (DeltaX * DeltaY))) * dT\n",
    "        popO = popO + (drO + (NetO / (DeltaX * DeltaY))) * dT\n",
    "        popP = popP + (drP + (NetP / (DeltaX * DeltaY))) * dT\n",
    "\n",
    "        Time = Time + dT\n",
    "\n",
    "        PlotTime = PlotTime - dT\n",
    "        axes = plt.gca()\n",
    "\n",
    "        if PlotTime <= 0:\n",
    "            snapshots.append(popP)\n",
    "\n",
    "    print('Done!')\n",
    "    binary_pattern = make_binary(snapshots[-1])\n",
    "    return binary_pattern\n",
    "\n",
    "def make_binary(value_array, threshold=None, sig_val=255):\n",
    "    \"\"\"\n",
    "    if not given a threshold to use,  look at the (max+min)/2 value\n",
    "    - for anything below, set to zero, for anything above, set to 1\n",
    "    \"\"\"\n",
    "    if not threshold:\n",
    "        threshold = (value_array.max() + value_array.min()) / 2.\n",
    "    new_list_x = []\n",
    "    for row in value_array:\n",
    "        new_list_y = np.array([sig_val*int(val > threshold) for val in row])\n",
    "        new_list_x.append(new_list_y)\n",
    "    return np.array(new_list_x)\n",
    "\n",
    "def get_metrix_npix(rainfall, npix):\n",
    "    \n",
    "    output =  get_metrics(generate_pattern(rainfall,npix))\n",
    "    output['n_pix'] = npix\n",
    "    output['rainfall'] = rainfall\n",
    "    \n",
    "    return output\n"
   ]
  },
  {
   "cell_type": "code",
   "execution_count": null,
   "metadata": {},
   "outputs": [],
   "source": [
    "import datetime\n",
    "\n",
    "def generate_pattern_pixels(rainfall):\n",
    "    \n",
    "    output_list = []\n",
    "    for i in range(1,12):\n",
    "        \n",
    "        output_list.append(get_metrix_npix(rainfall,i*10))\n",
    "        \n",
    "    \n",
    "    return (pd.DataFrame.from_dict(output_list))\n",
    "   \n"
   ]
  },
  {
   "cell_type": "code",
   "execution_count": null,
   "metadata": {},
   "outputs": [],
   "source": [
    "rain_11 = generate_pattern_pixels(1.11)\n"
   ]
  },
  {
   "cell_type": "code",
   "execution_count": null,
   "metadata": {},
   "outputs": [],
   "source": [
    "import seaborn as sns\n",
    "rag = sns.pairplot(rain_11)\n"
   ]
  },
  {
   "cell_type": "code",
   "execution_count": null,
   "metadata": {},
   "outputs": [],
   "source": [
    "rain_15 = generate_pattern_pixels(1.15)\n",
    "rag = sns.pairplot(rain_15)\n"
   ]
  },
  {
   "cell_type": "code",
   "execution_count": null,
   "metadata": {},
   "outputs": [],
   "source": [
    "rag = sns.pairplot(rain_15)\n"
   ]
  },
  {
   "cell_type": "code",
   "execution_count": null,
   "metadata": {},
   "outputs": [],
   "source": []
  }
 ],
 "metadata": {
  "kernelspec": {
   "display_name": "Python 3",
   "language": "python",
   "name": "python3"
  },
  "language_info": {
   "codemirror_mode": {
    "name": "ipython",
    "version": 3
   },
   "file_extension": ".py",
   "mimetype": "text/x-python",
   "name": "python",
   "nbconvert_exporter": "python",
   "pygments_lexer": "ipython3",
   "version": "3.7.5"
  }
 },
 "nbformat": 4,
 "nbformat_minor": 1
}
